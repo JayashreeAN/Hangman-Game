{
  "nbformat": 4,
  "nbformat_minor": 0,
  "metadata": {
    "colab": {
      "provenance": []
    },
    "kernelspec": {
      "name": "python3",
      "display_name": "Python 3"
    },
    "language_info": {
      "name": "python"
    }
  },
  "cells": [
    {
      "cell_type": "code",
      "source": [
        "import random\n",
        "\n",
        "# Choose a random word\n",
        "word_list = [\"apple\", \"python\", \"india\", \"cloud\", \"robot\"]\n",
        "chosen_word = random.choice(word_list)\n",
        "\n",
        "# Convert word to a list of blanks\n",
        "display = [\"_\" for _ in chosen_word]\n",
        "\n",
        "# Game setup\n",
        "lives = 6\n",
        "guessed_letters = []\n"
      ],
      "metadata": {
        "id": "CnNm7-dHHdhC"
      },
      "execution_count": 20,
      "outputs": []
    },
    {
      "cell_type": "code",
      "source": [
        "print(\"🎮 Welcome to Hangman!\\n\")\n",
        "while lives > 0 and \"_\" in display:\n",
        "    print(\"Word:\", \" \".join(display))\n",
        "    guess = input(\"Guess a letter: \").lower()\n",
        "\n",
        "    if guess in guessed_letters:\n",
        "        print(\"⚠️ You already guessed that letter.\")\n",
        "        continue\n",
        "\n",
        "    guessed_letters.append(guess)\n",
        "\n",
        "    if guess in chosen_word:\n",
        "        for i in range(len(chosen_word)):\n",
        "            if chosen_word[i] == guess:\n",
        "                display[i] = guess\n",
        "        print(\"✅ Correct!\")\n",
        "    else:\n",
        "        lives -= 1\n",
        "        print(\"❌ Wrong! Lives left:\", lives)\n",
        "\n",
        "    print()\n",
        "\n",
        "# Game Over\n",
        "if \"_\" not in display:\n",
        "    print(\"🎉 You win! The word was:\", chosen_word)\n",
        "else:\n",
        "    print(\"☠️ You lost. The word was:\", chosen_word)\n"
      ],
      "metadata": {
        "colab": {
          "base_uri": "https://localhost:8080/"
        },
        "id": "Y4BseQSOHetN",
        "outputId": "f6ec1658-fd8b-477b-b5a3-7fa5be814555"
      },
      "execution_count": 21,
      "outputs": [
        {
          "output_type": "stream",
          "name": "stdout",
          "text": [
            "🎮 Welcome to Hangman!\n",
            "\n",
            "Word: _ _ _ _ _\n",
            "Guess a letter: a\n",
            "❌ Wrong! Lives left: 5\n",
            "\n",
            "Word: _ _ _ _ _\n",
            "Guess a letter: p\n",
            "❌ Wrong! Lives left: 4\n",
            "\n",
            "Word: _ _ _ _ _\n",
            "Guess a letter: d\n",
            "❌ Wrong! Lives left: 3\n",
            "\n",
            "Word: _ _ _ _ _\n",
            "Guess a letter: c\n",
            "❌ Wrong! Lives left: 2\n",
            "\n",
            "Word: _ _ _ _ _\n",
            "Guess a letter: b\n",
            "✅ Correct!\n",
            "\n",
            "Word: _ _ b _ _\n",
            "Guess a letter: o\n",
            "✅ Correct!\n",
            "\n",
            "Word: _ o b o _\n",
            "Guess a letter: r\n",
            "✅ Correct!\n",
            "\n",
            "Word: r o b o _\n",
            "Guess a letter: t\n",
            "✅ Correct!\n",
            "\n",
            "🎉 You win! The word was: robot\n"
          ]
        }
      ]
    },
    {
      "cell_type": "code",
      "source": [],
      "metadata": {
        "id": "FpxWmxHLHjkA"
      },
      "execution_count": 19,
      "outputs": []
    },
    {
      "cell_type": "code",
      "source": [],
      "metadata": {
        "id": "gDwVQaf0HoZN"
      },
      "execution_count": 19,
      "outputs": []
    },
    {
      "cell_type": "code",
      "source": [],
      "metadata": {
        "id": "lIEuAIFXIwHf"
      },
      "execution_count": 19,
      "outputs": []
    },
    {
      "cell_type": "code",
      "source": [],
      "metadata": {
        "id": "d__i5oxDHxnn"
      },
      "execution_count": 19,
      "outputs": []
    },
    {
      "cell_type": "code",
      "source": [],
      "metadata": {
        "id": "r6901pqOIck8"
      },
      "execution_count": 19,
      "outputs": []
    },
    {
      "cell_type": "code",
      "source": [],
      "metadata": {
        "id": "DQW1gydQGrrw"
      },
      "execution_count": 19,
      "outputs": []
    },
    {
      "cell_type": "code",
      "source": [],
      "metadata": {
        "id": "dR39nJblGzwV"
      },
      "execution_count": null,
      "outputs": []
    }
  ]
}